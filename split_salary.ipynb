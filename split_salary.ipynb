{
 "cells": [
  {
   "cell_type": "code",
   "execution_count": 38,
   "metadata": {},
   "outputs": [
    {
     "data": {
      "text/html": [
       "<div>\n",
       "<style scoped>\n",
       "    .dataframe tbody tr th:only-of-type {\n",
       "        vertical-align: middle;\n",
       "    }\n",
       "\n",
       "    .dataframe tbody tr th {\n",
       "        vertical-align: top;\n",
       "    }\n",
       "\n",
       "    .dataframe thead th {\n",
       "        text-align: right;\n",
       "    }\n",
       "</style>\n",
       "<table border=\"1\" class=\"dataframe\">\n",
       "  <thead>\n",
       "    <tr style=\"text-align: right;\">\n",
       "      <th></th>\n",
       "      <th>_id</th>\n",
       "      <th>Title</th>\n",
       "      <th>Senior</th>\n",
       "      <th>Company</th>\n",
       "      <th>Location</th>\n",
       "      <th>Salary</th>\n",
       "      <th>Currency</th>\n",
       "    </tr>\n",
       "  </thead>\n",
       "  <tbody>\n",
       "    <tr>\n",
       "      <th>0</th>\n",
       "      <td>6356b67edfe00bdf04a81ba4</td>\n",
       "      <td>AI Developer / Data Scientist</td>\n",
       "      <td>False</td>\n",
       "      <td>Algomine</td>\n",
       "      <td>Remote</td>\n",
       "      <td>13 440  - 25 200  PLN</td>\n",
       "      <td>PLN</td>\n",
       "    </tr>\n",
       "    <tr>\n",
       "      <th>1</th>\n",
       "      <td>6356b67edfe00bdf04a81ba5</td>\n",
       "      <td>Data Scientist</td>\n",
       "      <td>False</td>\n",
       "      <td>Addepto</td>\n",
       "      <td>Remote</td>\n",
       "      <td>18 480  - 28 560  PLN</td>\n",
       "      <td>PLN</td>\n",
       "    </tr>\n",
       "    <tr>\n",
       "      <th>2</th>\n",
       "      <td>6356b67edfe00bdf04a81ba6</td>\n",
       "      <td>Machine Learning Engineer -Data Scientis</td>\n",
       "      <td>False</td>\n",
       "      <td>OpenX</td>\n",
       "      <td>Remote</td>\n",
       "      <td>16 000  - 24 000  PLN</td>\n",
       "      <td>PLN</td>\n",
       "    </tr>\n",
       "    <tr>\n",
       "      <th>3</th>\n",
       "      <td>6356b67edfe00bdf04a81ba7</td>\n",
       "      <td>Senior Data Scientist</td>\n",
       "      <td>True</td>\n",
       "      <td>hubQuest</td>\n",
       "      <td>Remote</td>\n",
       "      <td>25 000  - 34 000  PLN</td>\n",
       "      <td>PLN</td>\n",
       "    </tr>\n",
       "    <tr>\n",
       "      <th>4</th>\n",
       "      <td>6356b67edfe00bdf04a81ba8</td>\n",
       "      <td>Senior AI Engineer</td>\n",
       "      <td>True</td>\n",
       "      <td>Link Group</td>\n",
       "      <td>Remote</td>\n",
       "      <td>27 000  - 30 000  PLN</td>\n",
       "      <td>PLN</td>\n",
       "    </tr>\n",
       "  </tbody>\n",
       "</table>\n",
       "</div>"
      ],
      "text/plain": [
       "                        _id                                     Title  Senior  \\\n",
       "0  6356b67edfe00bdf04a81ba4             AI Developer / Data Scientist   False   \n",
       "1  6356b67edfe00bdf04a81ba5                            Data Scientist   False   \n",
       "2  6356b67edfe00bdf04a81ba6  Machine Learning Engineer -Data Scientis   False   \n",
       "3  6356b67edfe00bdf04a81ba7                     Senior Data Scientist    True   \n",
       "4  6356b67edfe00bdf04a81ba8                        Senior AI Engineer    True   \n",
       "\n",
       "      Company Location                 Salary Currency  \n",
       "0    Algomine   Remote  13 440  - 25 200  PLN      PLN  \n",
       "1     Addepto   Remote  18 480  - 28 560  PLN      PLN  \n",
       "2       OpenX   Remote  16 000  - 24 000  PLN      PLN  \n",
       "3    hubQuest   Remote  25 000  - 34 000  PLN      PLN  \n",
       "4  Link Group   Remote  27 000  - 30 000  PLN      PLN  "
      ]
     },
     "execution_count": 38,
     "metadata": {},
     "output_type": "execute_result"
    }
   ],
   "source": [
    "import pandas as pd\n",
    "import pymongo\n",
    "from app import collection\n",
    "import string\n",
    "\n",
    "df = pd.DataFrame.from_records(collection.find())\n",
    "df.head()"
   ]
  },
  {
   "cell_type": "code",
   "execution_count": 39,
   "metadata": {},
   "outputs": [
    {
     "data": {
      "text/plain": [
       "0    13440\n",
       "1    18480\n",
       "2    16000\n",
       "3    25000\n",
       "4    27000\n",
       "Name: Salary, dtype: int32"
      ]
     },
     "execution_count": 39,
     "metadata": {},
     "output_type": "execute_result"
    }
   ],
   "source": [
    "df['Salary'] = df['Salary'].apply(lambda x : x.split())\n",
    "df['Salary'] = df['Salary'].apply(lambda x : \"\".join(x[0:2]))\n",
    "df['Salary'] = df['Salary'].astype('int')\n",
    "df['Salary'].head()"
   ]
  },
  {
   "cell_type": "code",
   "execution_count": 41,
   "metadata": {},
   "outputs": [
    {
     "data": {
      "text/plain": [
       "<pymongo.results.BulkWriteResult at 0x2316df82dc0>"
      ]
     },
     "execution_count": 41,
     "metadata": {},
     "output_type": "execute_result"
    }
   ],
   "source": [
    "updates = []\n",
    "\n",
    "for _, row in df.iterrows():\n",
    "    updates.append(pymongo.UpdateOne({'_id': row.get('_id')}, {'$set': {'Salary': row.get('Salary')}}, upsert=True))\n",
    "\n",
    "collection.bulk_write(updates)"
   ]
  },
  {
   "cell_type": "code",
   "execution_count": null,
   "metadata": {},
   "outputs": [],
   "source": []
  }
 ],
 "metadata": {
  "kernelspec": {
   "display_name": "Python 3.10.6 ('FirstDash')",
   "language": "python",
   "name": "python3"
  },
  "language_info": {
   "codemirror_mode": {
    "name": "ipython",
    "version": 3
   },
   "file_extension": ".py",
   "mimetype": "text/x-python",
   "name": "python",
   "nbconvert_exporter": "python",
   "pygments_lexer": "ipython3",
   "version": "3.10.6"
  },
  "orig_nbformat": 4,
  "vscode": {
   "interpreter": {
    "hash": "ccff0c7b79962d6f94f96586577f8d1a0676dc91ebef649afd0bbd813d8d8005"
   }
  }
 },
 "nbformat": 4,
 "nbformat_minor": 2
}
